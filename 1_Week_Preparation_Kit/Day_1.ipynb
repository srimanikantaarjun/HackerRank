{
  "nbformat": 4,
  "nbformat_minor": 0,
  "metadata": {
    "colab": {
      "name": "Day 1.ipynb",
      "provenance": [],
      "collapsed_sections": []
    },
    "kernelspec": {
      "name": "python3",
      "display_name": "Python 3"
    },
    "language_info": {
      "name": "python"
    }
  },
  "cells": [
    {
      "cell_type": "markdown",
      "metadata": {
        "id": "KdNfJORVUakA"
      },
      "source": [
        "# Plus Minus"
      ]
    },
    {
      "cell_type": "markdown",
      "metadata": {
        "id": "6PeRBNk-PD9H"
      },
      "source": [
        "Given an array of integers, calculate the ratios of its elements that are positive, negative, and zero. Print the decimal value of each fraction on a new line with  places after the decimal.\n",
        "\n",
        "**Note**: This challenge introduces precision problems. The test cases are scaled to six decimal places, though answers with absolute error of up to $10^{-4}$ are acceptable.\n",
        "\n",
        "**Example**:\n",
        "\n",
        "arr = [1, 1, 0, -1, -1]\n",
        "\n",
        "There are n = 5 elements, two positive, two negative and one zero. Their ratios are 2/5 = 0.400000, 2/5 = 0.400000 and 1/5 = 0.200000. Results are printed as:\n",
        "\n",
        "`0.400000`\n",
        "\n",
        "`0.400000`\n",
        "\n",
        "`0.200000`\n",
        "\n",
        "**Function Description**\n",
        "\n",
        "Complete the plusMinus function in the editor. plusMinus has the following parameter(s):\n",
        "\n",
        "> int arr[n]: an array of integers\n",
        "\n",
        "**Print**\n",
        "\n",
        "Print the ratios of positive, negative and zero values in the array. Each value should be printed on a separate line with 6 digits after the decimal. The function should not return a value.\n",
        "\n",
        "**Input Format**\n",
        "\n",
        "The first line contains an integer, `n`, the size of the array. \n",
        "The second line contains `n` space-separated integers that describe `arr[n]`.\n",
        "\n",
        "**Constraints**\n",
        "\n",
        "> 0 < n <= 100\n",
        "\n",
        "> -100 <= arr[i] <= 100\n",
        "\n",
        "**Output Format**\n",
        "\n",
        "**Print** the following 3 lines, each to 6 decimals:\n",
        "\n",
        "1. proportion of positive values\n",
        "2. proportion of negative values\n",
        "3. proportion of zeros\n"
      ]
    },
    {
      "cell_type": "code",
      "metadata": {
        "id": "-xbllGNwtIFF"
      },
      "source": [
        "def plusMinus(arr):\n",
        "    # Write your code here\n",
        "    positive_array = []\n",
        "    negative_array = []\n",
        "    zero_array = []\n",
        "    for element in arr:\n",
        "        if element < 0:\n",
        "            negative_array.append(element)\n",
        "        elif element > 0:\n",
        "            positive_array.append(element)\n",
        "        else:\n",
        "            zero_array.append(element)\n",
        "    positive_ratio = round(len(positive_array)/len(arr), 6)\n",
        "    negative_ratio = round(len(negative_array)/len(arr), 6)\n",
        "    zero_ratio = round(len(zero_array)/len(arr), 6)\n",
        "    # return positive_ratio, negative_ratio, zero_ratio\n",
        "    print(positive_ratio)\n",
        "    print(negative_ratio)\n",
        "    print(zero_ratio)"
      ],
      "execution_count": null,
      "outputs": []
    },
    {
      "cell_type": "code",
      "metadata": {
        "colab": {
          "base_uri": "https://localhost:8080/"
        },
        "id": "_RKYeBt6MLsW",
        "outputId": "08a5855d-1490-419e-f6e8-695f0ce49d98"
      },
      "source": [
        "plusMinus([-2, -1, 0, 0, 1, 2])"
      ],
      "execution_count": null,
      "outputs": [
        {
          "output_type": "stream",
          "name": "stdout",
          "text": [
            "0.333333\n",
            "0.333333\n",
            "0.333333\n"
          ]
        }
      ]
    },
    {
      "cell_type": "code",
      "metadata": {
        "colab": {
          "base_uri": "https://localhost:8080/"
        },
        "id": "wZpsss-dMQWy",
        "outputId": "7a1b6960-76d8-46fc-96a9-17a5d78d77b1"
      },
      "source": [
        "plusMinus([-6, 0, 1, 3, 5, 6, 0, -3, -0])"
      ],
      "execution_count": null,
      "outputs": [
        {
          "output_type": "stream",
          "name": "stdout",
          "text": [
            "0.444444\n",
            "0.222222\n",
            "0.333333\n"
          ]
        }
      ]
    },
    {
      "cell_type": "markdown",
      "metadata": {
        "id": "9DiC7bpwU3DY"
      },
      "source": [
        "# Mini-Max Sum"
      ]
    },
    {
      "cell_type": "markdown",
      "metadata": {
        "id": "Au6OmS72VC36"
      },
      "source": [
        "Given five positive integers, find the minimum and maximum values that can be calculated by summing exactly four of the five integers. Then print the respective minimum and maximum values as a single line of two space-separated long integers.\n",
        "\n",
        "**Example**\n",
        "\n",
        "arr = [1, 3, 5, 7, 9]\n",
        "\n",
        "The minimum sum is 1 + 3 + 5 + 7 = 16 and the maximum sum is 3 + 5 + 7 + 9 = 24. The function prints\n",
        "\n",
        "> 16  24\n",
        "\n",
        "**Function Description**\n",
        "\n",
        "Complete the miniMaxSum function in the editor below.\n",
        "miniMaxSum has the following parameter(s):\n",
        "\n",
        "> arr: an array of  integers\n",
        "\n",
        "**Print**\n",
        "\n",
        "Print two space-separated integers on one line: the minimum sum and the maximum sum of 4 of 5 elements.\n",
        "\n",
        "**Input Format**\n",
        "\n",
        "A single line of five space-separated integers.\n",
        "\n",
        "**Constraints**\n",
        "\n",
        "> 1 <= arr[i] <= $10^9$\n",
        "\n",
        "**Output Format**\n",
        "\n",
        "Print two space-separated long integers denoting the respective minimum and maximum values that can be calculated by summing exactly four of the five integers. (The output can be greater than a 32 bit integer.)\n"
      ]
    },
    {
      "cell_type": "code",
      "metadata": {
        "id": "TTFoTLkdbPxF"
      },
      "source": [
        "def miniMaxSum(arr):\n",
        "    # Write your code here\n",
        "    length = len(arr)\n",
        "    # index = 0\n",
        "    sum_counter = []\n",
        "    for i in range(0,length):\n",
        "      sum_counter.append(sum(arr)-arr[i])\n",
        "      i += 1\n",
        "    print(sum_counter, min(sum_counter), max(sum_counter))"
      ],
      "execution_count": null,
      "outputs": []
    },
    {
      "cell_type": "code",
      "metadata": {
        "colab": {
          "base_uri": "https://localhost:8080/"
        },
        "id": "_GKWRyGobStg",
        "outputId": "5e4f710b-ddc1-439a-ccfb-893022f15008"
      },
      "source": [
        "miniMaxSum([1,2,3,4,5])"
      ],
      "execution_count": null,
      "outputs": [
        {
          "output_type": "stream",
          "name": "stdout",
          "text": [
            "[14, 13, 12, 11, 10] 10 14\n"
          ]
        }
      ]
    },
    {
      "cell_type": "markdown",
      "metadata": {
        "id": "TlSpnl2FiTUi"
      },
      "source": [
        "# Time Conversion"
      ]
    },
    {
      "cell_type": "markdown",
      "metadata": {
        "id": "ZBUKDVrhicJA"
      },
      "source": [
        "Given a time in 12-hour AM/PM format, convert it to military (24-hour) time.\n",
        "\n",
        "**Note:**\n",
        "\n",
        "-12:00:00AM on a 12-hour clock is 00:00:00 on a 24-hour clock.\n",
        "\n",
        "-12:00:00PM on a 12-hour clock is 12:00:00 on a 24-hour clock.\n",
        "\n",
        "**Example**\n",
        "\n",
        "\n",
        "*   s = '12:01:00PM'\n",
        "\n",
        "  Return '12:01:00'.\n",
        "\n",
        "*   s = '12:01:00AM'\n",
        "\n",
        "  Return '00:01:00'.\n",
        "\n",
        "**Function Description**\n",
        "\n",
        "Complete the timeConversion function in the editor below. It should return a new string representing the input time in 24 hour format.\n",
        "timeConversion has the following parameter(s):\n",
        "\n",
        ">string s: a time in 12 hour format\n",
        "\n",
        "**Returns**\n",
        "\n",
        "string: the time in 24 hour format\n",
        "\n",
        "**Input Format**\n",
        "\n",
        "A single string s that represents a time in 12-hour clock format (i.e.: hh:mm:ssAM or hh:mm:ss:PM).\n",
        "\n",
        "**Constraints**\n",
        "\n",
        "All input times are valid"
      ]
    },
    {
      "cell_type": "code",
      "metadata": {
        "id": "2zng1SYxkwlj"
      },
      "source": [
        "def timeConversion(s):\n",
        "    # Write your code here\n",
        "    if s[-2:] == \"PM\":\n",
        "        conversion = int(s[:2]) + 12\n",
        "        return (str(conversion) + s[2:-2])\n",
        "    else:\n",
        "        s = s.replace(\"12\", \"00\")\n",
        "        return (s[:-2])"
      ],
      "execution_count": null,
      "outputs": []
    },
    {
      "cell_type": "code",
      "metadata": {
        "id": "P2oy2PZWr3Wd"
      },
      "source": [
        "def timeConversion(s):\n",
        "    # Write your code here\n",
        "    if s[-2:] == \"PM\":\n",
        "      if s[:2] == \"12\":\n",
        "        return s[:-2]\n",
        "      else:\n",
        "        conversion = int(s[:2]) + 12\n",
        "        return (str(conversion) + s[2:-2])\n",
        "    else:\n",
        "        s = s.replace(\"12\", \"00\")\n",
        "        return (s[:-2])"
      ],
      "execution_count": null,
      "outputs": []
    },
    {
      "cell_type": "code",
      "metadata": {
        "colab": {
          "base_uri": "https://localhost:8080/",
          "height": 37
        },
        "id": "owJjv0VXpiHb",
        "outputId": "a3d1d60c-2831-431f-b44b-3349a8ccd297"
      },
      "source": [
        "timeConversion(\"12:05:45PM\")"
      ],
      "execution_count": null,
      "outputs": [
        {
          "output_type": "execute_result",
          "data": {
            "application/vnd.google.colaboratory.intrinsic+json": {
              "type": "string"
            },
            "text/plain": [
              "'12:05:45'"
            ]
          },
          "metadata": {},
          "execution_count": 107
        }
      ]
    },
    {
      "cell_type": "code",
      "metadata": {
        "colab": {
          "base_uri": "https://localhost:8080/",
          "height": 37
        },
        "id": "FGiQ9Md8pllQ",
        "outputId": "0d7b28d6-333b-442d-f4fc-21a1c7d6b9f5"
      },
      "source": [
        "timeConversion(\"12:05:45AM\")"
      ],
      "execution_count": null,
      "outputs": [
        {
          "output_type": "execute_result",
          "data": {
            "application/vnd.google.colaboratory.intrinsic+json": {
              "type": "string"
            },
            "text/plain": [
              "'00:05:45'"
            ]
          },
          "metadata": {},
          "execution_count": 108
        }
      ]
    },
    {
      "cell_type": "code",
      "metadata": {
        "colab": {
          "base_uri": "https://localhost:8080/",
          "height": 37
        },
        "id": "hk05fQlBp3Q8",
        "outputId": "e88ae64c-df71-469f-e750-1208470e9d09"
      },
      "source": [
        "timeConversion(\"07:05:45AM\")"
      ],
      "execution_count": null,
      "outputs": [
        {
          "output_type": "execute_result",
          "data": {
            "application/vnd.google.colaboratory.intrinsic+json": {
              "type": "string"
            },
            "text/plain": [
              "'07:05:45'"
            ]
          },
          "metadata": {},
          "execution_count": 109
        }
      ]
    },
    {
      "cell_type": "code",
      "metadata": {
        "id": "J52tZXp5rqTm"
      },
      "source": [
        ""
      ],
      "execution_count": null,
      "outputs": []
    }
  ]
}